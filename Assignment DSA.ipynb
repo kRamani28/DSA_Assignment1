{
 "cells": [
  {
   "cell_type": "code",
   "execution_count": 21,
   "id": "af64de62",
   "metadata": {},
   "outputs": [
    {
     "name": "stdout",
     "output_type": "stream",
     "text": [
      "[(1, 9), (2, 8), (3, 7), (4, 6)]\n"
     ]
    }
   ],
   "source": [
    "# Q1. To find all pairs of an integer array whose sum is equal to given number?\n",
    "def find_paris(arr, target_sum):\n",
    "    paris = []\n",
    "    for i in range(len(arr)):\n",
    "        for j in range(i+1, len(arr)):\n",
    "            if arr[i] + arr[j] == target_sum:\n",
    "                paris.append((arr[i],arr[j]))\n",
    "    return paris\n",
    "arr = [1, 2, 3, 4, 5, 6, 7, 8, 9]\n",
    "target_sum = 10\n",
    "print(find_paris(arr, target_sum))"
   ]
  },
  {
   "cell_type": "code",
   "execution_count": 1,
   "id": "c19c14d2",
   "metadata": {},
   "outputs": [
    {
     "name": "stdout",
     "output_type": "stream",
     "text": [
      "[6, 5, 4, 3, 2, 1]\n"
     ]
    }
   ],
   "source": [
    "# q2. To reverse an array in place? In place means you connot creat a new array.You have to update the original array\n",
    "\n",
    "def reverse_array(arr):\n",
    "    start = 0\n",
    "    end = len(arr) - 1\n",
    "    while start < end:\n",
    "        arr[start], arr[end] = arr[end], arr[start]\n",
    "        start += 1 \n",
    "        end -= 1\n",
    "    return arr\n",
    "arr = [1, 2, 3, 4, 5, 6]\n",
    "print(reverse_array(arr))"
   ]
  },
  {
   "cell_type": "code",
   "execution_count": 2,
   "id": "98962f4b",
   "metadata": {},
   "outputs": [
    {
     "name": "stdout",
     "output_type": "stream",
     "text": [
      "True\n"
     ]
    }
   ],
   "source": [
    "# Q3. To check if two strings are a rotation of each other?\n",
    "\n",
    "def are_rotations(str1, str2):\n",
    "    if len(str1) != len(str2):\n",
    "        return False\n",
    "    temp = str1 + str1\n",
    "    if str2 in temp:\n",
    "        return True\n",
    "    else:\n",
    "        return False\n",
    "str1 = 'abcd'\n",
    "str2 = 'cdab'\n",
    "print(are_rotations(str1, str2))"
   ]
  },
  {
   "cell_type": "code",
   "execution_count": 3,
   "id": "cb9654c2",
   "metadata": {},
   "outputs": [
    {
     "name": "stdout",
     "output_type": "stream",
     "text": [
      "a\n"
     ]
    }
   ],
   "source": [
    "# Q4. To print the first non-repeated character from a string?\n",
    "\n",
    "def first_non_repeated_character(string):\n",
    "    char_count = {}\n",
    "    for char in string:\n",
    "        if char in char_count:\n",
    "            char_count[char] += 1\n",
    "        else:\n",
    "            char_count[char] = 1\n",
    "    for char in string:\n",
    "        if char_count[char] == 1:\n",
    "            return char\n",
    "        return None\n",
    "string = \"accdebee\"\n",
    "print(first_non_repeated_character(string))"
   ]
  },
  {
   "cell_type": "code",
   "execution_count": 5,
   "id": "08ae1d1e",
   "metadata": {},
   "outputs": [
    {
     "name": "stdout",
     "output_type": "stream",
     "text": [
      "Move disk 1 from rod A to rod C\n",
      "Movie disk 2 from rod A to rod B\n",
      "Move disk 1 from rod C to rod B\n",
      "Movie disk 3 from rod A to rod C\n",
      "Move disk 1 from rod B to rod A\n",
      "Movie disk 2 from rod B to rod C\n",
      "Move disk 1 from rod A to rod C\n"
     ]
    }
   ],
   "source": [
    "# Q5. Read about the Tower of Honoi algorithm. Write a program to implement it.\n",
    " \n",
    "def tower_of_hanoi(n, from_rod, to_rod, aux_rod):\n",
    "    if n == 1:\n",
    "        print(\"Move disk 1 from rod\", from_rod, \"to rod\", to_rod)\n",
    "        return\n",
    "    tower_of_hanoi(n-1, from_rod, aux_rod, to_rod)\n",
    "    print(\"Movie disk\", n, \"from rod\", from_rod, \"to rod\", to_rod)\n",
    "    tower_of_hanoi(n-1, aux_rod, to_rod, from_rod)\n",
    "n = 3\n",
    "tower_of_hanoi(n, 'A', 'C', 'B')"
   ]
  },
  {
   "cell_type": "code",
   "execution_count": 6,
   "id": "103b922d",
   "metadata": {},
   "outputs": [
    {
     "name": "stdout",
     "output_type": "stream",
     "text": [
      "*+AB-CD\n"
     ]
    }
   ],
   "source": [
    "# Q6. Read about infix, prefix, and postfix expressions. Write a program to convert postfix to prefix expression.\n",
    "def postfix_to_prefix(expression):\n",
    "    stack = []\n",
    "    operators = set(['+', '-', '*', '/', '^'])\n",
    "    for char in expression:\n",
    "        if char not in operators:\n",
    "            stack.append(char)\n",
    "        else:\n",
    "            operand2 = stack.pop()\n",
    "            operand1 = stack.pop()\n",
    "            stack.append(char + operand1 + operand2)\n",
    "    return stack.pop()\n",
    "expression = \"AB+CD-*\"\n",
    "print(postfix_to_prefix(expression))"
   ]
  },
  {
   "cell_type": "code",
   "execution_count": 8,
   "id": "34f1a904",
   "metadata": {},
   "outputs": [
    {
     "name": "stdout",
     "output_type": "stream",
     "text": [
      "((A+B)-(C*D))\n"
     ]
    }
   ],
   "source": [
    "# Q7. To convert prefix expression to infix expression.\n",
    "\n",
    "def prefix_to_infix(expression):\n",
    "    stack = []\n",
    "    operators = set(['+','-', '*',  '/', '^'])\n",
    "    for char in reversed(expression):\n",
    "        if char not in operators:\n",
    "            stack.append(char)\n",
    "        else:\n",
    "            operand1 = stack.pop()\n",
    "            operand2 = stack.pop()\n",
    "            stack.append('(' + operand1 + char + operand2 +')')\n",
    "    return stack.pop()\n",
    "expression = \"-+AB*CD\"\n",
    "print(prefix_to_infix(expression))"
   ]
  },
  {
   "cell_type": "code",
   "execution_count": 11,
   "id": "4c4ab5c8",
   "metadata": {},
   "outputs": [
    {
     "name": "stdout",
     "output_type": "stream",
     "text": [
      "True\n",
      "True\n",
      "False\n"
     ]
    }
   ],
   "source": [
    "# Q8. To check if all the brackets are closed in a given code snippet\n",
    "\n",
    "def check_brackets(code):\n",
    "    stack = []\n",
    "    opening_brackets = set(['(', '[', '{'])\n",
    "    closing_brackets = set([')', ']', '}'])\n",
    "    bracket_paris = {'(': ')', '[': ']', '{': '}'}\n",
    "    for char in code:\n",
    "        if char in opening_brackets:\n",
    "            stack.append(char)\n",
    "        elif char in closing_brackets:\n",
    "            if len(stack) == 0:\n",
    "                return False\n",
    "            top = stack.pop()\n",
    "            if bracket_paris[top] != char:\n",
    "                return False\n",
    "    if len(stack) != 0:\n",
    "        return False\n",
    "    return True\n",
    "\n",
    "code_snippet = 'print(\"Hello, World!\")'\n",
    "print(check_brackets(code_snippet))\n",
    "\n",
    "code_snippet = 'if (x > 0): print(\"Positive\")'\n",
    "print(check_brackets(code_snippet))\n",
    "\n",
    "code_snippet = 'for (i = 0; i < n; i+ + { print(i) }'\n",
    "print(check_brackets(code_snippet))"
   ]
  },
  {
   "cell_type": "code",
   "execution_count": 17,
   "id": "245d830f",
   "metadata": {},
   "outputs": [
    {
     "name": "stdout",
     "output_type": "stream",
     "text": [
      "[5, 4, 3, 2, 1]\n"
     ]
    }
   ],
   "source": [
    "# Q9. Write a program to reverse a stack\n",
    "\n",
    "def reverse_stack(stack):\n",
    "    if len(stack) ==0:\n",
    "        return stack\n",
    "    temp = stack.pop()\n",
    "    reverse_stack(stack)\n",
    "    insert_at_bottom(stack, temp)\n",
    "    \n",
    "def insert_at_bottom(stack, item):\n",
    "    if len(stack) == 0:\n",
    "        stack.append(item)\n",
    "        return\n",
    "    temp = stack.pop()\n",
    "    insert_at_bottom(stack, item)\n",
    "    stack.append(temp)\n",
    "\n",
    "stack = [1, 2, 3, 4, 5]\n",
    "reverse_stack(stack)\n",
    "print(stack)\n",
    "    "
   ]
  },
  {
   "cell_type": "code",
   "execution_count": 20,
   "id": "efd4c759",
   "metadata": {},
   "outputs": [
    {
     "name": "stdout",
     "output_type": "stream",
     "text": [
      "0\n",
      "5\n"
     ]
    }
   ],
   "source": [
    "# Q10. Write a program to find smallest number using a stack.\n",
    "\n",
    "class MinStack:\n",
    "    def __init__(self):\n",
    "        self.stack = []\n",
    "        self.min_stack =[]\n",
    "        \n",
    "    def push(self, item):\n",
    "        self.stack.append(item)\n",
    "        if len(self.min_stack) == 0 or item <= self.min_stack[-1]:\n",
    "            self.min_stack.append(item)\n",
    "            \n",
    "    def pop(self):\n",
    "        if len(self.stack) == 0:\n",
    "            return None\n",
    "        item = self.stack.pop()\n",
    "        if item == self.min_stack[-1]:\n",
    "            self.min_stack.pop()\n",
    "        return item\n",
    "    \n",
    "    def get_min(self):\n",
    "        if len(self.min_stack) == 0:\n",
    "            return None\n",
    "        return self.min_stack[-1]\n",
    "    \n",
    "stack = MinStack()\n",
    "stack.push(7)\n",
    "stack.push(5)\n",
    "stack.push(0)\n",
    "stack.push(3)\n",
    "print(stack.get_min())\n",
    "stack.pop()\n",
    "stack.pop()\n",
    "print(stack.get_min())"
   ]
  },
  {
   "cell_type": "code",
   "execution_count": null,
   "id": "352222b5",
   "metadata": {},
   "outputs": [],
   "source": []
  }
 ],
 "metadata": {
  "kernelspec": {
   "display_name": "Python 3 (ipykernel)",
   "language": "python",
   "name": "python3"
  },
  "language_info": {
   "codemirror_mode": {
    "name": "ipython",
    "version": 3
   },
   "file_extension": ".py",
   "mimetype": "text/x-python",
   "name": "python",
   "nbconvert_exporter": "python",
   "pygments_lexer": "ipython3",
   "version": "3.11.2"
  }
 },
 "nbformat": 4,
 "nbformat_minor": 5
}
